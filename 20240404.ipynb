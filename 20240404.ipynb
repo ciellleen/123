{
  "nbformat": 4,
  "nbformat_minor": 0,
  "metadata": {
    "colab": {
      "provenance": [],
      "authorship_tag": "ABX9TyNzdxOpTYnaeG/XaEbYV4fT",
      "include_colab_link": true
    },
    "kernelspec": {
      "name": "python3",
      "display_name": "Python 3"
    },
    "language_info": {
      "name": "python"
    }
  },
  "cells": [
    {
      "cell_type": "markdown",
      "metadata": {
        "id": "view-in-github",
        "colab_type": "text"
      },
      "source": [
        "<a href=\"https://colab.research.google.com/github/ciellleen/20240321-/blob/main/20240404.ipynb\" target=\"_parent\"><img src=\"https://colab.research.google.com/assets/colab-badge.svg\" alt=\"Open In Colab\"/></a>"
      ]
    },
    {
      "cell_type": "code",
      "execution_count": 5,
      "metadata": {
        "colab": {
          "base_uri": "https://localhost:8080/"
        },
        "id": "mGrrSeYniI5I",
        "outputId": "34797231-97e0-4cbe-ba44-86ed90cc2927"
      },
      "outputs": [
        {
          "output_type": "stream",
          "name": "stdout",
          "text": [
            "★ ★ ★ ★ \n",
            "★ ★ ★ ★ \n",
            "★ ★ ★ ★ \n",
            "\n"
          ]
        }
      ],
      "source": [
        "#quiz 1\n",
        "for i in range(1):  # 3줄 출력\n",
        "    for j in range(3):  # 각 줄에 별 모양 4개 출력\n",
        "        print(\"★ \" * 4)  # 별 모양 출력\n",
        "    print()  # 한 줄 띄기\n"
      ]
    },
    {
      "cell_type": "code",
      "source": [
        "#quiz 2-1\n",
        "for _ in range(3):  # 3줄 출력\n",
        "    print((\"★ \" * 4).strip())  # 각 줄에 별 모양 4개 출력\n"
      ],
      "metadata": {
        "colab": {
          "base_uri": "https://localhost:8080/"
        },
        "id": "Zd6c2jVtiPfN",
        "outputId": "fba68c24-2034-41ee-942a-26801c1c8bd6"
      },
      "execution_count": 4,
      "outputs": [
        {
          "output_type": "stream",
          "name": "stdout",
          "text": [
            "★ ★ ★ ★\n",
            "★ ★ ★ ★\n",
            "★ ★ ★ ★\n"
          ]
        }
      ]
    },
    {
      "cell_type": "code",
      "source": [
        "#quiz 2-2\n",
        "stars = \"★ \" * 4  # 별 모양\n",
        "for _ in stars, stars, stars:  # stars를 3번 반복\n",
        "    print(stars.strip())  # 별 모양 출력\n"
      ],
      "metadata": {
        "colab": {
          "base_uri": "https://localhost:8080/"
        },
        "id": "8R32lGFojMqP",
        "outputId": "fbda183f-f2f2-44ee-fa09-fe8c56935afa"
      },
      "execution_count": 14,
      "outputs": [
        {
          "output_type": "stream",
          "name": "stdout",
          "text": [
            "★ ★ ★ ★\n",
            "★ ★ ★ ★\n",
            "★ ★ ★ ★\n"
          ]
        }
      ]
    },
    {
      "cell_type": "code",
      "source": [
        "#quiz 3\n",
        "# 가로로 별 3개가 연결된 문자열\n",
        "horizontal_stars = '★★★'\n",
        "\n",
        "# 세로 반복을 위한 문자열(또는 리스트)\n",
        "vertical_repeats = \"★★★★\"  # 이 문자열의 길이가 세로 반복 횟수를 결정\n",
        "\n",
        "# 세로 반복\n",
        "for _ in vertical_repeats:\n",
        "    print(horizontal_stars)"
      ],
      "metadata": {
        "colab": {
          "base_uri": "https://localhost:8080/"
        },
        "id": "tLSepOqqm7K2",
        "outputId": "7e8221aa-4f17-4ac2-8be2-a352aaebee07"
      },
      "execution_count": 19,
      "outputs": [
        {
          "output_type": "stream",
          "name": "stdout",
          "text": [
            "★★★\n",
            "★★★\n",
            "★★★\n",
            "★★★\n"
          ]
        }
      ]
    },
    {
      "cell_type": "code",
      "source": [
        "#quiz 5-1\n",
        "import math\n",
        "\n",
        "# 사용자로부터 반지름과 높이 입력 받기\n",
        "radius = float(input(\"반지름을 입력하세요: \"))\n",
        "height = float(input(\"높이를 입력하세요: \"))\n",
        "\n",
        "# 부피 계산\n",
        "volume = math.pi * (radius ** 2) * height\n",
        "\n",
        "# 결과 출력\n",
        "print(\"원기둥의 부피는:\", volume)\n"
      ],
      "metadata": {
        "colab": {
          "base_uri": "https://localhost:8080/"
        },
        "id": "0-AzWRK4kAgH",
        "outputId": "2fbf9d4f-26ab-4a01-dd32-8ef9522d2160"
      },
      "execution_count": 15,
      "outputs": [
        {
          "output_type": "stream",
          "name": "stdout",
          "text": [
            "반지름을 입력하세요: 3\n",
            "높이를 입력하세요: 5\n",
            "원기둥의 부피는: 141.3716694115407\n"
          ]
        }
      ]
    },
    {
      "cell_type": "code",
      "source": [
        "#quiz 5-2\n",
        "import math\n",
        "\n",
        "# 임의의 변수를 사용하여 반지름과 높이를 할당\n",
        "r = 5\n",
        "h = 10\n",
        "\n",
        "# 부피 계산\n",
        "volume = math.pi * (r ** 2) * h\n",
        "\n",
        "# 결과 출력\n",
        "print(\"원기둥의 부피는:\", volume)\n"
      ],
      "metadata": {
        "colab": {
          "base_uri": "https://localhost:8080/"
        },
        "id": "QyPhwzBNl-k2",
        "outputId": "bafdf8bb-802f-418c-bc10-655f769be100"
      },
      "execution_count": 16,
      "outputs": [
        {
          "output_type": "stream",
          "name": "stdout",
          "text": [
            "원기둥의 부피는: 785.3981633974483\n"
          ]
        }
      ]
    },
    {
      "cell_type": "code",
      "source": [
        "#quiz 4\n",
        "# 누적 합계를 저장할 변수 초기화\n",
        "total = 0\n",
        "\n",
        "while True:\n",
        "    # 사용자 입력 받기\n",
        "    user_input = input(\"숫자를 입력하시거나, 프로그램을 종료하려면 'q'를 입력하세요: \")\n",
        "\n",
        "    # 입력이 'q'인 경우 반복 종료\n",
        "    if user_input.lower() == 'q':\n",
        "        print(\"프로그램을 종료합니다.\")\n",
        "        break\n",
        "\n",
        "    try:\n",
        "        # 입력값을 정수로 변환하여 total에 더함\n",
        "        total += int(user_input)\n",
        "        print(f\"현재 합계: {total}\")\n",
        "    except ValueError:\n",
        "        # 입력값이 숫자가 아닌 경우 에러 메시지 출력\n",
        "        print(\"숫자를 입력하거나, 'q'를 입력하여 프로그램을 종료하세요.\")\n",
        "\n"
      ],
      "metadata": {
        "colab": {
          "base_uri": "https://localhost:8080/"
        },
        "id": "KSKhh_DGo3g2",
        "outputId": "429184ba-aeb6-4d27-f244-43563ef04c35"
      },
      "execution_count": 21,
      "outputs": [
        {
          "output_type": "stream",
          "name": "stdout",
          "text": [
            "숫자를 입력하시거나, 프로그램을 종료하려면 'q'를 입력하세요: q\n",
            "프로그램을 종료합니다.\n"
          ]
        }
      ]
    },
    {
      "cell_type": "code",
      "source": [
        "#Quiz_6\n",
        "from datetime import datetime\n",
        "\n",
        "def current_time():\n",
        "    \"\"\"\n",
        "    현재 시간을 나타내는 함수.\n",
        "    \"\"\"\n",
        "    now = datetime.now()  # 현재 날짜와 시간을 가져옵니다.\n",
        "    current_time = now.strftime(\"%Y-%m-%d %H:%M:%S\")  # 포맷을 지정하여 시간을 문자열로 변환합니다.\n",
        "    return current_time\n",
        "\n",
        "# 현재 시간을 출력합니다.\n",
        "print(\"현재 시간:\", current_time())"
      ],
      "metadata": {
        "colab": {
          "base_uri": "https://localhost:8080/"
        },
        "id": "UYss5wWHqjlF",
        "outputId": "bb05d4f2-e928-4e7d-c0ed-7e566c7cd0f7"
      },
      "execution_count": 22,
      "outputs": [
        {
          "output_type": "stream",
          "name": "stdout",
          "text": [
            "현재 시간: 2024-04-04 05:52:19\n"
          ]
        }
      ]
    },
    {
      "cell_type": "code",
      "source": [
        "#quiz 7\n",
        "# 학생들의 키를 튜플로 저장\n",
        "heights = (165, 172, 168, 170, 174, 169, 167, 175, 171, 168)\n",
        "\n",
        "# 키가 170보다 큰 학생들을 출력\n",
        "for height in heights:\n",
        "    if height <= 170:\n",
        "        continue  # 키가 170보다 작으면 건너뜀\n",
        "    print(f\"키가 170보다 큰 학생: {height}cm\")\n"
      ],
      "metadata": {
        "colab": {
          "base_uri": "https://localhost:8080/"
        },
        "id": "_SdM7ELnv5md",
        "outputId": "790f4925-97e3-45e7-b53b-4f60f2f1ee6b"
      },
      "execution_count": 23,
      "outputs": [
        {
          "output_type": "stream",
          "name": "stdout",
          "text": [
            "키가 170보다 큰 학생: 172cm\n",
            "키가 170보다 큰 학생: 174cm\n",
            "키가 170보다 큰 학생: 175cm\n",
            "키가 170보다 큰 학생: 171cm\n"
          ]
        }
      ]
    },
    {
      "cell_type": "code",
      "source": [
        "#quiz 8 -1\n",
        "def print_star_pattern():\n",
        "    for i in range(1):  # 3줄 출력\n",
        "        for j in range(3):  # 각 줄에 별 모양 4개 출력\n",
        "            print(\"★ \" * 4)  # 별 모양 출력\n",
        "        print()  # 한 줄 띄기\n",
        "\n",
        "# 함수 호출\n",
        "print_star_pattern()\n"
      ],
      "metadata": {
        "colab": {
          "base_uri": "https://localhost:8080/"
        },
        "id": "ZLPSmd20wPq0",
        "outputId": "0c92f196-ee26-440e-816f-c39719e1e0da"
      },
      "execution_count": 26,
      "outputs": [
        {
          "output_type": "stream",
          "name": "stdout",
          "text": [
            "★ ★ ★ ★ \n",
            "★ ★ ★ ★ \n",
            "★ ★ ★ ★ \n",
            "\n"
          ]
        }
      ]
    },
    {
      "cell_type": "code",
      "source": [
        "#quiz 8-2\n",
        "def print_star_pattern():\n",
        "    for _ in range(3):  # 3줄 출력\n",
        "        print((\"★ \" * 4).strip())  # 각 줄에 별 모양 4개 출력\n",
        "\n",
        "# 함수 호출\n",
        "print_star_pattern()"
      ],
      "metadata": {
        "colab": {
          "base_uri": "https://localhost:8080/"
        },
        "id": "L0AWIp2gwyNV",
        "outputId": "f81ccb23-2a46-44ba-a106-5b017aae4fa0"
      },
      "execution_count": 30,
      "outputs": [
        {
          "output_type": "stream",
          "name": "stdout",
          "text": [
            "★ ★ ★ ★\n",
            "★ ★ ★ ★\n",
            "★ ★ ★ ★\n"
          ]
        }
      ]
    },
    {
      "cell_type": "code",
      "source": [
        "#quiz 8-3\n",
        "def print_star_pattern():\n",
        "    stars = \"★ \" * 4  # 별 모양\n",
        "    for _ in stars, stars, stars:  # stars를 3번 반복\n",
        "        print(stars.strip())  # 별 모양 출력\n",
        "\n",
        "# 함수 호출\n",
        "print_star_pattern()"
      ],
      "metadata": {
        "colab": {
          "base_uri": "https://localhost:8080/"
        },
        "id": "eLAVBtmtxfcs",
        "outputId": "47bd8cf5-43cd-40ef-ddb1-48a239b7dd4e"
      },
      "execution_count": 31,
      "outputs": [
        {
          "output_type": "stream",
          "name": "stdout",
          "text": [
            "★ ★ ★ ★\n",
            "★ ★ ★ ★\n",
            "★ ★ ★ ★\n"
          ]
        }
      ]
    },
    {
      "cell_type": "code",
      "source": [
        "#quiz 8-4\n",
        "def print_star_pattern():\n",
        "    # 가로로 별 3개가 연결된 문자열\n",
        "    horizontal_stars = '★★★'\n",
        "\n",
        "    # 세로 반복을 위한 문자열(또는 리스트)\n",
        "    vertical_repeats = \"★★★★\"  # 이 문자열의 길이가 세로 반복 횟수를 결정\n",
        "\n",
        "    # 세로 반복\n",
        "    for _ in vertical_repeats:\n",
        "        print(horizontal_stars)\n",
        "\n",
        "# 함수 호출\n",
        "print_star_pattern()\n"
      ],
      "metadata": {
        "colab": {
          "base_uri": "https://localhost:8080/"
        },
        "id": "zcvQz4EuxmGM",
        "outputId": "b9c68786-7a40-4d40-fe8a-9af14b500c32"
      },
      "execution_count": 33,
      "outputs": [
        {
          "output_type": "stream",
          "name": "stdout",
          "text": [
            "★★★\n",
            "★★★\n",
            "★★★\n",
            "★★★\n"
          ]
        }
      ]
    },
    {
      "cell_type": "code",
      "source": [
        "#quiz 8-5-1\n",
        "import math\n",
        "\n",
        "def calculate_cylinder_volume():\n",
        "    # 사용자로부터 반지름과 높이 입력 받기\n",
        "    radius = float(input(\"반지름을 입력하세요: \"))\n",
        "    height = float(input(\"높이를 입력하세요: \"))\n",
        "\n",
        "    # 부피 계산\n",
        "    volume = math.pi * (radius ** 2) * height\n",
        "\n",
        "    # 결과 출력\n",
        "    print(\"원기둥의 부피는:\", volume)\n",
        "\n",
        "# 함수 호출\n",
        "calculate_cylinder_volume()\n"
      ],
      "metadata": {
        "id": "_2Ix7o3hx4sD"
      },
      "execution_count": null,
      "outputs": []
    },
    {
      "cell_type": "code",
      "source": [
        "#quiz 8-5-2\n",
        "import math\n",
        "\n",
        "def calculate_cylinder_volume():\n",
        "    # 임의의 변수를 사용하여 반지름과 높이를 할당\n",
        "    r = 5\n",
        "    h = 10\n",
        "\n",
        "    # 부피 계산\n",
        "    volume = math.pi * (r ** 2) * h\n",
        "\n",
        "    # 결과 출력\n",
        "    print(\"원기둥의 부피는:\", volume)\n",
        "\n",
        "# 함수 호출\n",
        "calculate_cylinder_volume()\n"
      ],
      "metadata": {
        "id": "gyM65q_oyJxV"
      },
      "execution_count": null,
      "outputs": []
    },
    {
      "cell_type": "code",
      "source": [
        "#quiz 8-6\n",
        "def calculate_total():\n",
        "    # 누적 합계를 저장할 변수 초기화\n",
        "    total = 0\n",
        "\n",
        "    while True:\n",
        "        # 사용자 입력 받기\n",
        "        user_input = input(\"숫자를 입력하시거나, 프로그램을 종료하려면 'q'를 입력하세요: \")\n",
        "\n",
        "        # 입력이 'q'인 경우 반복 종료\n",
        "        if user_input.lower() == 'q':\n",
        "            print(\"프로그램을 종료합니다.\")\n",
        "            break\n",
        "\n",
        "        try:\n",
        "            # 입력값을 정수로 변환하여 total에 더함\n",
        "            total += int(user_input)\n",
        "            print(f\"현재 합계: {total}\")\n",
        "        except ValueError:\n",
        "            # 입력값이 숫자가 아닌 경우 에러 메시지 출력\n",
        "            print(\"숫자를 입력하거나, 'q'를 입력하여 프로그램을 종료하세요.\")\n",
        "\n",
        "# 함수 호출\n",
        "calculate_total()"
      ],
      "metadata": {
        "id": "JfOTB78ayVOd"
      },
      "execution_count": null,
      "outputs": []
    },
    {
      "cell_type": "code",
      "source": [
        "#quiz 8-7\n",
        "from datetime import datetime\n",
        "\n",
        "def current_time():\n",
        "    \"\"\"\n",
        "    현재 시간을 반환하는 함수.\n",
        "    \"\"\"\n",
        "    now = datetime.now()  # 현재 날짜와 시간을 가져옵니다.\n",
        "    current_time = now.strftime(\"%Y-%m-%d %H:%M:%S\")  # 포맷을 지정하여 시간을 문자열로 변환합니다.\n",
        "    return current_time\n",
        "\n",
        "# 함수 호출\n",
        "print(\"현재 시간:\", current_time())\n"
      ],
      "metadata": {
        "id": "61JXHqx-yYrc"
      },
      "execution_count": null,
      "outputs": []
    },
    {
      "cell_type": "code",
      "source": [
        "#quiz 8-8\n",
        "def print_students_height(heights):\n",
        "    \"\"\"\n",
        "    주어진 키들을 받아서 170보다 큰 학생들의 키를 출력하는 함수.\n",
        "    \"\"\"\n",
        "    for height in heights:\n",
        "        if height <= 170:\n",
        "            continue  # 키가 170보다 작으면 건너뜀\n",
        "        print(f\"키가 170보다 큰 학생: {height}cm\")\n",
        "\n",
        "# 학생들의 키를 튜플로 저장\n",
        "heights = (165, 172, 168, 170, 174, 169, 167, 175, 171, 168)\n",
        "\n",
        "# 함수 호출\n",
        "print_students_height(heights)\n"
      ],
      "metadata": {
        "id": "U3BTHLwKynMw"
      },
      "execution_count": null,
      "outputs": []
    }
  ]
}